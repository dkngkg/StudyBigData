{
 "cells": [
  {
   "cell_type": "markdown",
   "metadata": {},
   "source": [
    "## 소상공인시장진흥공단 상가업소정보로 스타벅스, 이디야 위치 분석하기\n",
    "\n",
    "* 이디야는 스타벅스 근처에 입점한다는 설이 있습니다. 과연 이디야와 스타벅스의 매장입지는 얼마나 차이가 날까요? 관련 기사를 읽고 구별로 이디야와 스타벅스의 매장을 기사와 유사하게 분석하고 시각화 해보면서 Python, Pandas, Numpy, Seaborn, Matplotlib, folium 을 통해 다양한 방법으로 표현해 봅니다..\n",
    "\n",
    "### 다루는 내용\n",
    "* 공공데이터를 활용해 텍스트 데이터 정제하고 원하는 정보 찾아내기\n",
    "* 문자열에서 원하는 텍스트 추출하기\n",
    "* 문자열을 활용한 다양한 분석 방법과 위치 정보 사용하기\n",
    "* folium을 통한 위경도 데이터 시각화 이해하기\n",
    "\n",
    "### 실습\n",
    "* 텍스트 데이터 정제하기 -  대소문자로 섞여있는 상호명을 소문자로 변경하고 상호명 추출하기\n",
    "* 텍스트 데이터에서 원하는 정보 추출하기 - 브랜드명 컬럼을 만들고 구별 매장 수 분석하기\n",
    "* folium을 통해 지도에 분석한 내용을 표현하기 - CircleMarker와 choropleth 그리기\n",
    "\n",
    "\n",
    "### 데\n"
   ]
  },
  {
   "cell_type": "markdown",
   "metadata": {},
   "source": []
  },
  {
   "cell_type": "code",
   "execution_count": 23,
   "metadata": {},
   "outputs": [],
   "source": [
    "# 데이터 분석을 위해 pandas를, 수치계산을 위해 numpy를, 시각화를 위해 seaborn을 불러옵니다.\n",
    "import pandas as pd\n",
    "import numpy as np\n",
    "import seaborn as sns\n",
    "import matplotlib.pyplot as plt\n",
    "from matplotlib import rcParams, style, font_manager, rc\n",
    "\n"
   ]
  },
  {
   "cell_type": "code",
   "execution_count": 24,
   "metadata": {},
   "outputs": [],
   "source": [
    "font_path = 'C:/Windows/Fonts/Malgun.ttf'\n",
    "font_name= font_manager.FontProperties(fname=font_path).get_name()\n",
    "rc('font', family=font_name)"
   ]
  },
  {
   "cell_type": "code",
   "execution_count": 39,
   "metadata": {},
   "outputs": [
    {
     "data": {
      "text/plain": [
       "<AxesSubplot:title={'center':'한글폰트'}>"
      ]
     },
     "execution_count": 39,
     "metadata": {},
     "output_type": "execute_result"
    },
    {
     "name": "stderr",
     "output_type": "stream",
     "text": [
      "c:\\Users\\admin\\AppData\\Local\\Programs\\Python\\Python310\\lib\\site-packages\\IPython\\core\\pylabtools.py:151: UserWarning: Glyph 8722 (\\N{MINUS SIGN}) missing from current font.\n",
      "  fig.canvas.print_figure(bytes_io, **kw)\n"
     ]
    },
    {
     "data": {
      "image/png": "[encoded data removed]",
      "text/plain": [
       "<Figure size 432x288 with 1 Axes>"
      ]
     },
     "metadata": {
      "needs_background": "light"
     },
     "output_type": "display_data"
    }
   ],
   "source": [
    "\n",
    "# 한글폰트와 마이너스 폰트 설정 확인\n",
    "\n",
    "pd.Series([-1, 0, 1, 3, 5]).plot(title=\"한글폰트\")"
   ]
  },
  {
   "cell_type": "code",
   "execution_count": null,
   "metadata": {},
   "outputs": [],
   "source": []
  },
  {
   "cell_type": "code",
   "execution_count": 40,
   "metadata": {},
   "outputs": [
    {
     "ename": "SyntaxError",
     "evalue": "invalid syntax. Maybe you meant '==' or ':=' instead of '='? (3195519870.py, line 3)",
     "output_type": "error",
     "traceback": [
      "\u001b[1;36m  Input \u001b[1;32mIn [40]\u001b[1;36m\u001b[0m\n\u001b[1;33m    df = pd.read_csv('./data/shop_info.csv'), sep='|', encoding='utf-8'\u001b[0m\n\u001b[1;37m    ^\u001b[0m\n\u001b[1;31mSyntaxError\u001b[0m\u001b[1;31m:\u001b[0m invalid syntax. Maybe you meant '==' or ':=' instead of '='?\n"
     ]
    }
   ],
   "source": [
    "# 파일을 불러와 df 라는 변수에 담습니다.\n",
    "# shape 를 통해 불러온 csv 파일의 크기를 확인합니다.\n",
    "df = pd.read_csv('./data/shop_info.csv'), sep='|', encoding='utf-8'\n",
    "\n",
    "df.shape"
   ]
  },
  {
   "cell_type": "code",
   "execution_count": 26,
   "metadata": {},
   "outputs": [
    {
     "ename": "NameError",
     "evalue": "name 'df' is not defined",
     "output_type": "error",
     "traceback": [
      "\u001b[1;31m---------------------------------------------------------------------------\u001b[0m",
      "\u001b[1;31mNameError\u001b[0m                                 Traceback (most recent call last)",
      "\u001b[1;32mc:\\localRepository\\StudyBigData\\day06\\스타벅스_이디야_매장 분석.ipynb 셀 8\u001b[0m in \u001b[0;36m<cell line: 1>\u001b[1;34m()\u001b[0m\n\u001b[1;32m----> <a href='vscode-notebook-cell:/c%3A/localRepository/StudyBigData/day06/%EC%8A%A4%ED%83%80%EB%B2%85%EC%8A%A4_%EC%9D%B4%EB%94%94%EC%95%BC_%EB%A7%A4%EC%9E%A5%20%EB%B6%84%EC%84%9D.ipynb#X10sZmlsZQ%3D%3D?line=0'>1</a>\u001b[0m df\u001b[39m.\u001b[39mhead()\n",
      "\u001b[1;31mNameError\u001b[0m: name 'df' is not defined"
     ]
    }
   ],
   "source": [
    "df.head()  "
   ]
  },
  {
   "cell_type": "code",
   "execution_count": 10,
   "metadata": {},
   "outputs": [
    {
     "ename": "NameError",
     "evalue": "name 'df' is not defined",
     "output_type": "error",
     "traceback": [
      "\u001b[1;31m---------------------------------------------------------------------------\u001b[0m",
      "\u001b[1;31mNameError\u001b[0m                                 Traceback (most recent call last)",
      "\u001b[1;32mc:\\localRepository\\StudyBigData\\day06\\스타벅스_이디야_매장 분석.ipynb 셀 9\u001b[0m in \u001b[0;36m<cell line: 2>\u001b[1;34m()\u001b[0m\n\u001b[0;32m      <a href='vscode-notebook-cell:/c%3A/localRepository/StudyBigData/day06/%EC%8A%A4%ED%83%80%EB%B2%85%EC%8A%A4_%EC%9D%B4%EB%94%94%EC%95%BC_%EB%A7%A4%EC%9E%A5%20%EB%B6%84%EC%84%9D.ipynb#X11sZmlsZQ%3D%3D?line=0'>1</a>\u001b[0m \u001b[39m# 정보보기  \u001b[39;00m\n\u001b[1;32m----> <a href='vscode-notebook-cell:/c%3A/localRepository/StudyBigData/day06/%EC%8A%A4%ED%83%80%EB%B2%85%EC%8A%A4_%EC%9D%B4%EB%94%94%EC%95%BC_%EB%A7%A4%EC%9E%A5%20%EB%B6%84%EC%84%9D.ipynb#X11sZmlsZQ%3D%3D?line=1'>2</a>\u001b[0m df\u001b[39m.\u001b[39minfo()\n",
      "\u001b[1;31mNameError\u001b[0m: name 'df' is not defined"
     ]
    }
   ],
   "source": [
    "# 정보보기  \n",
    "df.info()"
   ]
  },
  {
   "cell_type": "code",
   "execution_count": 11,
   "metadata": {},
   "outputs": [
    {
     "ename": "NameError",
     "evalue": "name 'df' is not defined",
     "output_type": "error",
     "traceback": [
      "\u001b[1;31m---------------------------------------------------------------------------\u001b[0m",
      "\u001b[1;31mNameError\u001b[0m                                 Traceback (most recent call last)",
      "\u001b[1;32mc:\\localRepository\\StudyBigData\\day06\\스타벅스_이디야_매장 분석.ipynb 셀 10\u001b[0m in \u001b[0;36m<cell line: 2>\u001b[1;34m()\u001b[0m\n\u001b[0;32m      <a href='vscode-notebook-cell:/c%3A/localRepository/StudyBigData/day06/%EC%8A%A4%ED%83%80%EB%B2%85%EC%8A%A4_%EC%9D%B4%EB%94%94%EC%95%BC_%EB%A7%A4%EC%9E%A5%20%EB%B6%84%EC%84%9D.ipynb#X12sZmlsZQ%3D%3D?line=0'>1</a>\u001b[0m \u001b[39m# 결측치 보기\u001b[39;00m\n\u001b[1;32m----> <a href='vscode-notebook-cell:/c%3A/localRepository/StudyBigData/day06/%EC%8A%A4%ED%83%80%EB%B2%85%EC%8A%A4_%EC%9D%B4%EB%94%94%EC%95%BC_%EB%A7%A4%EC%9E%A5%20%EB%B6%84%EC%84%9D.ipynb#X12sZmlsZQ%3D%3D?line=1'>2</a>\u001b[0m df\u001b[39m.\u001b[39misnull()\u001b[39m.\u001b[39msum()\u001b[39m.\u001b[39mplot\u001b[39m.\u001b[39mbarh(figsize\u001b[39m=\u001b[39m(\u001b[39m10\u001b[39m, \u001b[39m15\u001b[39m))\n",
      "\u001b[1;31mNameError\u001b[0m: name 'df' is not defined"
     ]
    }
   ],
   "source": [
    "# 결측치 보기\n",
    "df.isnull().sum().plot.barh(figsize=(10, 15))"
   ]
  },
  {
   "cell_type": "code",
   "execution_count": 12,
   "metadata": {},
   "outputs": [
    {
     "ename": "NameError",
     "evalue": "name 'df' is not defined",
     "output_type": "error",
     "traceback": [
      "\u001b[1;31m---------------------------------------------------------------------------\u001b[0m",
      "\u001b[1;31mNameError\u001b[0m                                 Traceback (most recent call last)",
      "\u001b[1;32mc:\\localRepository\\StudyBigData\\day06\\스타벅스_이디야_매장 분석.ipynb 셀 11\u001b[0m in \u001b[0;36m<cell line: 7>\u001b[1;34m()\u001b[0m\n\u001b[0;32m      <a href='vscode-notebook-cell:/c%3A/localRepository/StudyBigData/day06/%EC%8A%A4%ED%83%80%EB%B2%85%EC%8A%A4_%EC%9D%B4%EB%94%94%EC%95%BC_%EB%A7%A4%EC%9E%A5%20%EB%B6%84%EC%84%9D.ipynb#X13sZmlsZQ%3D%3D?line=0'>1</a>\u001b[0m \u001b[39m# 사용할 컬럼만 따로 모음\u001b[39;00m\n\u001b[0;32m      <a href='vscode-notebook-cell:/c%3A/localRepository/StudyBigData/day06/%EC%8A%A4%ED%83%80%EB%B2%85%EC%8A%A4_%EC%9D%B4%EB%94%94%EC%95%BC_%EB%A7%A4%EC%9E%A5%20%EB%B6%84%EC%84%9D.ipynb#X13sZmlsZQ%3D%3D?line=2'>3</a>\u001b[0m columns \u001b[39m=\u001b[39m [\u001b[39m'\u001b[39m\u001b[39m상호명\u001b[39m\u001b[39m'\u001b[39m, \u001b[39m'\u001b[39m\u001b[39m상권업종대분류명\u001b[39m\u001b[39m'\u001b[39m, \u001b[39m'\u001b[39m\u001b[39m상권업종중분류명\u001b[39m\u001b[39m'\u001b[39m, \u001b[39m'\u001b[39m\u001b[39m상권업종소분류명\u001b[39m\u001b[39m'\u001b[39m, \n\u001b[0;32m      <a href='vscode-notebook-cell:/c%3A/localRepository/StudyBigData/day06/%EC%8A%A4%ED%83%80%EB%B2%85%EC%8A%A4_%EC%9D%B4%EB%94%94%EC%95%BC_%EB%A7%A4%EC%9E%A5%20%EB%B6%84%EC%84%9D.ipynb#X13sZmlsZQ%3D%3D?line=3'>4</a>\u001b[0m            \u001b[39m'\u001b[39m\u001b[39m시도명\u001b[39m\u001b[39m'\u001b[39m, \u001b[39m'\u001b[39m\u001b[39m시군구명\u001b[39m\u001b[39m'\u001b[39m, \u001b[39m'\u001b[39m\u001b[39m행정동명\u001b[39m\u001b[39m'\u001b[39m, \u001b[39m'\u001b[39m\u001b[39m법정동명\u001b[39m\u001b[39m'\u001b[39m, \u001b[39m'\u001b[39m\u001b[39m도로명주소\u001b[39m\u001b[39m'\u001b[39m, \n\u001b[0;32m      <a href='vscode-notebook-cell:/c%3A/localRepository/StudyBigData/day06/%EC%8A%A4%ED%83%80%EB%B2%85%EC%8A%A4_%EC%9D%B4%EB%94%94%EC%95%BC_%EB%A7%A4%EC%9E%A5%20%EB%B6%84%EC%84%9D.ipynb#X13sZmlsZQ%3D%3D?line=4'>5</a>\u001b[0m            \u001b[39m'\u001b[39m\u001b[39m경도\u001b[39m\u001b[39m'\u001b[39m, \u001b[39m'\u001b[39m\u001b[39m위도\u001b[39m\u001b[39m'\u001b[39m]\n\u001b[1;32m----> <a href='vscode-notebook-cell:/c%3A/localRepository/StudyBigData/day06/%EC%8A%A4%ED%83%80%EB%B2%85%EC%8A%A4_%EC%9D%B4%EB%94%94%EC%95%BC_%EB%A7%A4%EC%9E%A5%20%EB%B6%84%EC%84%9D.ipynb#X13sZmlsZQ%3D%3D?line=6'>7</a>\u001b[0m df \u001b[39m=\u001b[39m df[columns]\u001b[39m.\u001b[39mcopy()\n\u001b[0;32m      <a href='vscode-notebook-cell:/c%3A/localRepository/StudyBigData/day06/%EC%8A%A4%ED%83%80%EB%B2%85%EC%8A%A4_%EC%9D%B4%EB%94%94%EC%95%BC_%EB%A7%A4%EC%9E%A5%20%EB%B6%84%EC%84%9D.ipynb#X13sZmlsZQ%3D%3D?line=7'>8</a>\u001b[0m df\u001b[39m.\u001b[39mshape\n",
      "\u001b[1;31mNameError\u001b[0m: name 'df' is not defined"
     ]
    }
   ],
   "source": [
    "# 사용할 컬럼만 따로 모음\n",
    "\n",
    "columns = ['상호명', '상권업종대분류명', '상권업종중분류명', '상권업종소분류명', \n",
    "           '시도명', '시군구명', '행정동명', '법정동명', '도로명주소', \n",
    "           '경도', '위도']\n",
    "\n",
    "df = df[columns].copy()\n",
    "df.shape"
   ]
  },
  {
   "cell_type": "code",
   "execution_count": 13,
   "metadata": {},
   "outputs": [
    {
     "ename": "NameError",
     "evalue": "name 'df' is not defined",
     "output_type": "error",
     "traceback": [
      "\u001b[1;31m---------------------------------------------------------------------------\u001b[0m",
      "\u001b[1;31mNameError\u001b[0m                                 Traceback (most recent call last)",
      "\u001b[1;32mc:\\localRepository\\StudyBigData\\day06\\스타벅스_이디야_매장 분석.ipynb 셀 12\u001b[0m in \u001b[0;36m<cell line: 2>\u001b[1;34m()\u001b[0m\n\u001b[0;32m      <a href='vscode-notebook-cell:/c%3A/localRepository/StudyBigData/day06/%EC%8A%A4%ED%83%80%EB%B2%85%EC%8A%A4_%EC%9D%B4%EB%94%94%EC%95%BC_%EB%A7%A4%EC%9E%A5%20%EB%B6%84%EC%84%9D.ipynb#X14sZmlsZQ%3D%3D?line=0'>1</a>\u001b[0m \u001b[39m# 제거 후 메모리 사용량 보기\u001b[39;00m\n\u001b[1;32m----> <a href='vscode-notebook-cell:/c%3A/localRepository/StudyBigData/day06/%EC%8A%A4%ED%83%80%EB%B2%85%EC%8A%A4_%EC%9D%B4%EB%94%94%EC%95%BC_%EB%A7%A4%EC%9E%A5%20%EB%B6%84%EC%84%9D.ipynb#X14sZmlsZQ%3D%3D?line=1'>2</a>\u001b[0m df\u001b[39m.\u001b[39minfo()\n",
      "\u001b[1;31mNameError\u001b[0m: name 'df' is not defined"
     ]
    }
   ],
   "source": [
    "# 제거 후 메모리 사용량 보기\n",
    "df.info()"
   ]
  },
  {
   "cell_type": "code",
   "execution_count": null,
   "metadata": {},
   "outputs": [],
   "source": [
    "# 서울만 따로 추출\n",
    "df_seoul = df[df[\"시도명\"] == \"서울특별시\"].copy()\n",
    "df_seoul.shape"
   ]
  },
  {
   "cell_type": "code",
   "execution_count": 15,
   "metadata": {},
   "outputs": [
    {
     "ename": "NameError",
     "evalue": "name 'df_seoul' is not defined",
     "output_type": "error",
     "traceback": [
      "\u001b[1;31m---------------------------------------------------------------------------\u001b[0m",
      "\u001b[1;31mNameError\u001b[0m                                 Traceback (most recent call last)",
      "\u001b[1;32mc:\\localRepository\\StudyBigData\\day06\\스타벅스_이디야_매장 분석.ipynb 셀 14\u001b[0m in \u001b[0;36m<cell line: 1>\u001b[1;34m()\u001b[0m\n\u001b[1;32m----> <a href='vscode-notebook-cell:/c%3A/localRepository/StudyBigData/day06/%EC%8A%A4%ED%83%80%EB%B2%85%EC%8A%A4_%EC%9D%B4%EB%94%94%EC%95%BC_%EB%A7%A4%EC%9E%A5%20%EB%B6%84%EC%84%9D.ipynb#X16sZmlsZQ%3D%3D?line=0'>1</a>\u001b[0m df_seoul\u001b[39m.\u001b[39mhead()\n",
      "\u001b[1;31mNameError\u001b[0m: name 'df_seoul' is not defined"
     ]
    }
   ],
   "source": [
    "df_seoul.head()"
   ]
  },
  {
   "cell_type": "code",
   "execution_count": 16,
   "metadata": {},
   "outputs": [
    {
     "ename": "NameError",
     "evalue": "name 'df_seoul' is not defined",
     "output_type": "error",
     "traceback": [
      "\u001b[1;31m---------------------------------------------------------------------------\u001b[0m",
      "\u001b[1;31mNameError\u001b[0m                                 Traceback (most recent call last)",
      "\u001b[1;32mc:\\localRepository\\StudyBigData\\day06\\스타벅스_이디야_매장 분석.ipynb 셀 15\u001b[0m in \u001b[0;36m<cell line: 2>\u001b[1;34m()\u001b[0m\n\u001b[0;32m      <a href='vscode-notebook-cell:/c%3A/localRepository/StudyBigData/day06/%EC%8A%A4%ED%83%80%EB%B2%85%EC%8A%A4_%EC%9D%B4%EB%94%94%EC%95%BC_%EB%A7%A4%EC%9E%A5%20%EB%B6%84%EC%84%9D.ipynb#X22sZmlsZQ%3D%3D?line=0'>1</a>\u001b[0m \u001b[39m# \"상호명_소문자\" 컬럼을 만듭니다.\u001b[39;00m\n\u001b[1;32m----> <a href='vscode-notebook-cell:/c%3A/localRepository/StudyBigData/day06/%EC%8A%A4%ED%83%80%EB%B2%85%EC%8A%A4_%EC%9D%B4%EB%94%94%EC%95%BC_%EB%A7%A4%EC%9E%A5%20%EB%B6%84%EC%84%9D.ipynb#X22sZmlsZQ%3D%3D?line=1'>2</a>\u001b[0m df_seoul[\u001b[39m\"\u001b[39m\u001b[39m상호명_소문자\u001b[39m\u001b[39m\"\u001b[39m] \u001b[39m=\u001b[39m df_seoul[\u001b[39m\"\u001b[39m\u001b[39m상호명\u001b[39m\u001b[39m\"\u001b[39m]\u001b[39m.\u001b[39mstr\u001b[39m.\u001b[39mlower()\n",
      "\u001b[1;31mNameError\u001b[0m: name 'df_seoul' is not defined"
     ]
    }
   ],
   "source": [
    "\n",
    "# \"상호명_소문자\" 컬럼을 만듭니다.\n",
    "df_seoul[\"상호명_소문자\"] = df_seoul[\"상호명\"].str.lower()"
   ]
  },
  {
   "cell_type": "code",
   "execution_count": 27,
   "metadata": {},
   "outputs": [
    {
     "ename": "NameError",
     "evalue": "name 'df_seoul' is not defined",
     "output_type": "error",
     "traceback": [
      "\u001b[1;31m---------------------------------------------------------------------------\u001b[0m",
      "\u001b[1;31mNameError\u001b[0m                                 Traceback (most recent call last)",
      "\u001b[1;32mc:\\localRepository\\StudyBigData\\day06\\스타벅스_이디야_매장 분석.ipynb 셀 16\u001b[0m in \u001b[0;36m<cell line: 6>\u001b[1;34m()\u001b[0m\n\u001b[0;32m      <a href='vscode-notebook-cell:/c%3A/localRepository/StudyBigData/day06/%EC%8A%A4%ED%83%80%EB%B2%85%EC%8A%A4_%EC%9D%B4%EB%94%94%EC%95%BC_%EB%A7%A4%EC%9E%A5%20%EB%B6%84%EC%84%9D.ipynb#X23sZmlsZQ%3D%3D?line=0'>1</a>\u001b[0m \u001b[39m# ediya 를 \"상호명_소문자\" 컬럼으로 가져옵니다.\u001b[39;00m\n\u001b[0;32m      <a href='vscode-notebook-cell:/c%3A/localRepository/StudyBigData/day06/%EC%8A%A4%ED%83%80%EB%B2%85%EC%8A%A4_%EC%9D%B4%EB%94%94%EC%95%BC_%EB%A7%A4%EC%9E%A5%20%EB%B6%84%EC%84%9D.ipynb#X23sZmlsZQ%3D%3D?line=1'>2</a>\u001b[0m \u001b[39m# '상호명_소문자'컬럼으로 '이디야|ediya' 를 가져와 갯수를 세어봅니다.\u001b[39;00m\n\u001b[0;32m      <a href='vscode-notebook-cell:/c%3A/localRepository/StudyBigData/day06/%EC%8A%A4%ED%83%80%EB%B2%85%EC%8A%A4_%EC%9D%B4%EB%94%94%EC%95%BC_%EB%A7%A4%EC%9E%A5%20%EB%B6%84%EC%84%9D.ipynb#X23sZmlsZQ%3D%3D?line=2'>3</a>\u001b[0m \u001b[39m# loc[행]\u001b[39;00m\n\u001b[0;32m      <a href='vscode-notebook-cell:/c%3A/localRepository/StudyBigData/day06/%EC%8A%A4%ED%83%80%EB%B2%85%EC%8A%A4_%EC%9D%B4%EB%94%94%EC%95%BC_%EB%A7%A4%EC%9E%A5%20%EB%B6%84%EC%84%9D.ipynb#X23sZmlsZQ%3D%3D?line=3'>4</a>\u001b[0m \u001b[39m# loc[행, 열]\u001b[39;00m\n\u001b[1;32m----> <a href='vscode-notebook-cell:/c%3A/localRepository/StudyBigData/day06/%EC%8A%A4%ED%83%80%EB%B2%85%EC%8A%A4_%EC%9D%B4%EB%94%94%EC%95%BC_%EB%A7%A4%EC%9E%A5%20%EB%B6%84%EC%84%9D.ipynb#X23sZmlsZQ%3D%3D?line=5'>6</a>\u001b[0m df_seoul\u001b[39m.\u001b[39mloc[df_seoul[\u001b[39m\"\u001b[39m\u001b[39m상호명_소문자\u001b[39m\u001b[39m\"\u001b[39m]\u001b[39m.\u001b[39mstr\u001b[39m.\u001b[39mcontains(\u001b[39m\"\u001b[39m\u001b[39m이디야|이디아|ediya\u001b[39m\u001b[39m\"\u001b[39m), \u001b[39m\"\u001b[39m\u001b[39m상호명_소문자\u001b[39m\u001b[39m\"\u001b[39m]\u001b[39m.\u001b[39mshape\n",
      "\u001b[1;31mNameError\u001b[0m: name 'df_seoul' is not defined"
     ]
    }
   ],
   "source": [
    "# ediya 를 \"상호명_소문자\" 컬럼으로 가져옵니다.\n",
    "# '상호명_소문자'컬럼으로 '이디야|ediya' 를 가져와 갯수를 세어봅니다.\n",
    "# loc[행]\n",
    "# loc[행, 열]\n",
    "\n",
    "df_seoul.loc[df_seoul[\"상호명_소문자\"].str.contains(\"이디야|이디아|ediya\"), \"상호명_소문자\"].shape"
   ]
  },
  {
   "cell_type": "code",
   "execution_count": 28,
   "metadata": {},
   "outputs": [
    {
     "ename": "NameError",
     "evalue": "name 'df_seoul' is not defined",
     "output_type": "error",
     "traceback": [
      "\u001b[1;31m---------------------------------------------------------------------------\u001b[0m",
      "\u001b[1;31mNameError\u001b[0m                                 Traceback (most recent call last)",
      "\u001b[1;32mc:\\localRepository\\StudyBigData\\day06\\스타벅스_이디야_매장 분석.ipynb 셀 17\u001b[0m in \u001b[0;36m<cell line: 2>\u001b[1;34m()\u001b[0m\n\u001b[0;32m      <a href='vscode-notebook-cell:/c%3A/localRepository/StudyBigData/day06/%EC%8A%A4%ED%83%80%EB%B2%85%EC%8A%A4_%EC%9D%B4%EB%94%94%EC%95%BC_%EB%A7%A4%EC%9E%A5%20%EB%B6%84%EC%84%9D.ipynb#X24sZmlsZQ%3D%3D?line=0'>1</a>\u001b[0m \u001b[39m# '상호명_소문자'컬럼으로  '스타벅스|starbucks|이디야|이디아|ediya'를 가져와 df_cafe 변수에 담습니다.\u001b[39;00m\n\u001b[1;32m----> <a href='vscode-notebook-cell:/c%3A/localRepository/StudyBigData/day06/%EC%8A%A4%ED%83%80%EB%B2%85%EC%8A%A4_%EC%9D%B4%EB%94%94%EC%95%BC_%EB%A7%A4%EC%9E%A5%20%EB%B6%84%EC%84%9D.ipynb#X24sZmlsZQ%3D%3D?line=1'>2</a>\u001b[0m df_cafe \u001b[39m=\u001b[39m df_seoul[\n\u001b[0;32m      <a href='vscode-notebook-cell:/c%3A/localRepository/StudyBigData/day06/%EC%8A%A4%ED%83%80%EB%B2%85%EC%8A%A4_%EC%9D%B4%EB%94%94%EC%95%BC_%EB%A7%A4%EC%9E%A5%20%EB%B6%84%EC%84%9D.ipynb#X24sZmlsZQ%3D%3D?line=2'>3</a>\u001b[0m     df_seoul[\u001b[39m\"\u001b[39m\u001b[39m상호명_소문자\u001b[39m\u001b[39m\"\u001b[39m]\u001b[39m.\u001b[39mstr\u001b[39m.\u001b[39mcontains(\u001b[39m'\u001b[39m\u001b[39m스타벅스|starbucks|이디야|이디아|ediya\u001b[39m\u001b[39m'\u001b[39m)]\u001b[39m.\u001b[39mcopy()\n\u001b[0;32m      <a href='vscode-notebook-cell:/c%3A/localRepository/StudyBigData/day06/%EC%8A%A4%ED%83%80%EB%B2%85%EC%8A%A4_%EC%9D%B4%EB%94%94%EC%95%BC_%EB%A7%A4%EC%9E%A5%20%EB%B6%84%EC%84%9D.ipynb#X24sZmlsZQ%3D%3D?line=3'>4</a>\u001b[0m df_cafe\u001b[39m.\u001b[39mshape\n",
      "\u001b[1;31mNameError\u001b[0m: name 'df_seoul' is not defined"
     ]
    }
   ],
   "source": [
    "# '상호명_소문자'컬럼으로  '스타벅스|starbucks|이디야|이디아|ediya'를 가져와 df_cafe 변수에 담습니다.\n",
    "df_cafe = df_seoul[\n",
    "    df_seoul[\"상호명_소문자\"].str.contains('스타벅스|starbucks|이디야|이디아|ediya')].copy()\n",
    "df_cafe.shape"
   ]
  },
  {
   "cell_type": "code",
   "execution_count": 29,
   "metadata": {},
   "outputs": [
    {
     "ename": "NameError",
     "evalue": "name 'df_cafe' is not defined",
     "output_type": "error",
     "traceback": [
      "\u001b[1;31m---------------------------------------------------------------------------\u001b[0m",
      "\u001b[1;31mNameError\u001b[0m                                 Traceback (most recent call last)",
      "\u001b[1;32mc:\\localRepository\\StudyBigData\\day06\\스타벅스_이디야_매장 분석.ipynb 셀 18\u001b[0m in \u001b[0;36m<cell line: 5>\u001b[1;34m()\u001b[0m\n\u001b[0;32m      <a href='vscode-notebook-cell:/c%3A/localRepository/StudyBigData/day06/%EC%8A%A4%ED%83%80%EB%B2%85%EC%8A%A4_%EC%9D%B4%EB%94%94%EC%95%BC_%EB%A7%A4%EC%9E%A5%20%EB%B6%84%EC%84%9D.ipynb#X25sZmlsZQ%3D%3D?line=0'>1</a>\u001b[0m \u001b[39m# ~은 not을 의미합니다. 스타벅스가 아닌 데이터는 이디야로 넣어주어도 되지만\u001b[39;00m\n\u001b[0;32m      <a href='vscode-notebook-cell:/c%3A/localRepository/StudyBigData/day06/%EC%8A%A4%ED%83%80%EB%B2%85%EC%8A%A4_%EC%9D%B4%EB%94%94%EC%95%BC_%EB%A7%A4%EC%9E%A5%20%EB%B6%84%EC%84%9D.ipynb#X25sZmlsZQ%3D%3D?line=1'>2</a>\u001b[0m \u001b[39m# 아래 코드처럼 결측치를 이디야로 채워줘도 괜찮습니다.\u001b[39;00m\n\u001b[0;32m      <a href='vscode-notebook-cell:/c%3A/localRepository/StudyBigData/day06/%EC%8A%A4%ED%83%80%EB%B2%85%EC%8A%A4_%EC%9D%B4%EB%94%94%EC%95%BC_%EB%A7%A4%EC%9E%A5%20%EB%B6%84%EC%84%9D.ipynb#X25sZmlsZQ%3D%3D?line=2'>3</a>\u001b[0m \u001b[39m# df_cafe.loc[~df_cafe['상호명'].str.contains('스타벅스|starbucks'), '브랜드명'] = '이디야'\u001b[39;00m\n\u001b[1;32m----> <a href='vscode-notebook-cell:/c%3A/localRepository/StudyBigData/day06/%EC%8A%A4%ED%83%80%EB%B2%85%EC%8A%A4_%EC%9D%B4%EB%94%94%EC%95%BC_%EB%A7%A4%EC%9E%A5%20%EB%B6%84%EC%84%9D.ipynb#X25sZmlsZQ%3D%3D?line=4'>5</a>\u001b[0m df_cafe\u001b[39m.\u001b[39mloc[df_cafe[\u001b[39m\"\u001b[39m\u001b[39m상호명_소문자\u001b[39m\u001b[39m\"\u001b[39m]\u001b[39m.\u001b[39mstr\u001b[39m.\u001b[39mcontains(\u001b[39m'\u001b[39m\u001b[39m스타벅스|starbucks\u001b[39m\u001b[39m'\u001b[39m), \u001b[39m\"\u001b[39m\u001b[39m브랜드명\u001b[39m\u001b[39m\"\u001b[39m] \u001b[39m=\u001b[39m \u001b[39m\"\u001b[39m\u001b[39m스타벅스\u001b[39m\u001b[39m\"\u001b[39m\n\u001b[0;32m      <a href='vscode-notebook-cell:/c%3A/localRepository/StudyBigData/day06/%EC%8A%A4%ED%83%80%EB%B2%85%EC%8A%A4_%EC%9D%B4%EB%94%94%EC%95%BC_%EB%A7%A4%EC%9E%A5%20%EB%B6%84%EC%84%9D.ipynb#X25sZmlsZQ%3D%3D?line=5'>6</a>\u001b[0m df_cafe\u001b[39m.\u001b[39mloc[\u001b[39m~\u001b[39mdf_cafe[\u001b[39m\"\u001b[39m\u001b[39m상호명_소문자\u001b[39m\u001b[39m\"\u001b[39m]\u001b[39m.\u001b[39mstr\u001b[39m.\u001b[39mcontains(\u001b[39m'\u001b[39m\u001b[39m스타벅스|starbucks\u001b[39m\u001b[39m'\u001b[39m), \u001b[39m\"\u001b[39m\u001b[39m브랜드명\u001b[39m\u001b[39m\"\u001b[39m] \u001b[39m=\u001b[39m \u001b[39m\"\u001b[39m\u001b[39m이디야\u001b[39m\u001b[39m\"\u001b[39m\n\u001b[0;32m      <a href='vscode-notebook-cell:/c%3A/localRepository/StudyBigData/day06/%EC%8A%A4%ED%83%80%EB%B2%85%EC%8A%A4_%EC%9D%B4%EB%94%94%EC%95%BC_%EB%A7%A4%EC%9E%A5%20%EB%B6%84%EC%84%9D.ipynb#X25sZmlsZQ%3D%3D?line=6'>7</a>\u001b[0m df_cafe[[\u001b[39m\"\u001b[39m\u001b[39m상호명_소문자\u001b[39m\u001b[39m\"\u001b[39m, \u001b[39m\"\u001b[39m\u001b[39m브랜드명\u001b[39m\u001b[39m\"\u001b[39m]]\u001b[39m.\u001b[39mhead()\n",
      "\u001b[1;31mNameError\u001b[0m: name 'df_cafe' is not defined"
     ]
    }
   ],
   "source": [
    "# ~은 not을 의미합니다. 스타벅스가 아닌 데이터는 이디야로 넣어주어도 되지만\n",
    "# 아래 코드처럼 결측치를 이디야로 채워줘도 괜찮습니다.\n",
    "# df_cafe.loc[~df_cafe['상호명'].str.contains('스타벅스|starbucks'), '브랜드명'] = '이디야'\n",
    "\n",
    "df_cafe.loc[df_cafe[\"상호명_소문자\"].str.contains('스타벅스|starbucks'), \"브랜드명\"] = \"스타벅스\"\n",
    "df_cafe.loc[~df_cafe[\"상호명_소문자\"].str.contains('스타벅스|starbucks'), \"브랜드명\"] = \"이디야\"\n",
    "df_cafe[[\"상호명_소문자\", \"브랜드명\"]].head()"
   ]
  },
  {
   "cell_type": "code",
   "execution_count": 34,
   "metadata": {},
   "outputs": [],
   "source": [
    "# 스타벅스를 제외한 데이터는 이디야이기 때문에 이디야로 브랜드명을 만듭니다.\n",
    "# df_cafe[\"브랜드명\"].fillna(\"이디야"
   ]
  },
  {
   "cell_type": "code",
   "execution_count": 35,
   "metadata": {},
   "outputs": [
    {
     "ename": "NameError",
     "evalue": "name 'df_cafe' is not defined",
     "output_type": "error",
     "traceback": [
      "\u001b[1;31m---------------------------------------------------------------------------\u001b[0m",
      "\u001b[1;31mNameError\u001b[0m                                 Traceback (most recent call last)",
      "\u001b[1;32mc:\\localRepository\\StudyBigData\\day06\\스타벅스_이디야_매장 분석.ipynb 셀 20\u001b[0m in \u001b[0;36m<cell line: 3>\u001b[1;34m()\u001b[0m\n\u001b[0;32m      <a href='vscode-notebook-cell:/c%3A/localRepository/StudyBigData/day06/%EC%8A%A4%ED%83%80%EB%B2%85%EC%8A%A4_%EC%9D%B4%EB%94%94%EC%95%BC_%EB%A7%A4%EC%9E%A5%20%EB%B6%84%EC%84%9D.ipynb#X30sZmlsZQ%3D%3D?line=0'>1</a>\u001b[0m \u001b[39m# df_cafe에 담긴 상호명','브랜드명'으로 미리보기를 합니다.\u001b[39;00m\n\u001b[1;32m----> <a href='vscode-notebook-cell:/c%3A/localRepository/StudyBigData/day06/%EC%8A%A4%ED%83%80%EB%B2%85%EC%8A%A4_%EC%9D%B4%EB%94%94%EC%95%BC_%EB%A7%A4%EC%9E%A5%20%EB%B6%84%EC%84%9D.ipynb#X30sZmlsZQ%3D%3D?line=2'>3</a>\u001b[0m df_cafe[[\u001b[39m\"\u001b[39m\u001b[39m상호명\u001b[39m\u001b[39m\"\u001b[39m, \u001b[39m\"\u001b[39m\u001b[39m브랜드명\u001b[39m\u001b[39m\"\u001b[39m]]\u001b[39m.\u001b[39mtail()\n",
      "\u001b[1;31mNameError\u001b[0m: name 'df_cafe' is not defined"
     ]
    }
   ],
   "source": [
    "# df_cafe에 담긴 상호명','브랜드명'으로 미리보기를 합니다.\n",
    "\n",
    "df_cafe[[\"상호명\", \"브랜드명\"]].tail()"
   ]
  },
  {
   "cell_type": "code",
   "execution_count": null,
   "metadata": {},
   "outputs": [],
   "source": [
    "### 시각화\n",
    "#### 분류별 countplot 그리기"
   ]
  },
  {
   "cell_type": "code",
   "execution_count": null,
   "metadata": {},
   "outputs": [],
   "source": [
    "df_cafe.to_csv('./data/shop_info_in_cafe.csv', encoding='utf-8')\n"
   ]
  },
  {
   "cell_type": "code",
   "execution_count": 36,
   "metadata": {},
   "outputs": [
    {
     "ename": "NameError",
     "evalue": "name 'df_cafe' is not defined",
     "output_type": "error",
     "traceback": [
      "\u001b[1;31m---------------------------------------------------------------------------\u001b[0m",
      "\u001b[1;31mNameError\u001b[0m                                 Traceback (most recent call last)",
      "\u001b[1;32mc:\\localRepository\\StudyBigData\\day06\\스타벅스_이디야_매장 분석.ipynb 셀 22\u001b[0m in \u001b[0;36m<cell line: 2>\u001b[1;34m()\u001b[0m\n\u001b[0;32m      <a href='vscode-notebook-cell:/c%3A/localRepository/StudyBigData/day06/%EC%8A%A4%ED%83%80%EB%B2%85%EC%8A%A4_%EC%9D%B4%EB%94%94%EC%95%BC_%EB%A7%A4%EC%9E%A5%20%EB%B6%84%EC%84%9D.ipynb#X31sZmlsZQ%3D%3D?line=0'>1</a>\u001b[0m \u001b[39m# \"상권업중분류명\"을 countplot 으로 시각화하고 분류 혹은 데이터가 잘못 색인된 데이터가 있는지 봅니다.\u001b[39;00m\n\u001b[1;32m----> <a href='vscode-notebook-cell:/c%3A/localRepository/StudyBigData/day06/%EC%8A%A4%ED%83%80%EB%B2%85%EC%8A%A4_%EC%9D%B4%EB%94%94%EC%95%BC_%EB%A7%A4%EC%9E%A5%20%EB%B6%84%EC%84%9D.ipynb#X31sZmlsZQ%3D%3D?line=1'>2</a>\u001b[0m df_cafe[\u001b[39m\"\u001b[39m\u001b[39m상권업종중분류명\u001b[39m\u001b[39m\"\u001b[39m]\u001b[39m.\u001b[39mvalue_counts()\u001b[39m.\u001b[39mplot\u001b[39m.\u001b[39mbar()\n",
      "\u001b[1;31mNameError\u001b[0m: name 'df_cafe' is not defined"
     ]
    }
   ],
   "source": [
    "# \"상권업중분류명\"을 countplot 으로 시각화하고 분류 혹은 데이터가 잘못 색인된 데이터가 있는지 봅니다.\n",
    "d\n",
    "df_cafe[\"상권업종중분류명\"].value_counts().plot.bar()"
   ]
  },
  {
   "cell_type": "code",
   "execution_count": 37,
   "metadata": {},
   "outputs": [
    {
     "ename": "NameError",
     "evalue": "name 'df_cafe' is not defined",
     "output_type": "error",
     "traceback": [
      "\u001b[1;31m---------------------------------------------------------------------------\u001b[0m",
      "\u001b[1;31mNameError\u001b[0m                                 Traceback (most recent call last)",
      "\u001b[1;32mc:\\localRepository\\StudyBigData\\day06\\스타벅스_이디야_매장 분석.ipynb 셀 23\u001b[0m in \u001b[0;36m<cell line: 1>\u001b[1;34m()\u001b[0m\n\u001b[1;32m----> <a href='vscode-notebook-cell:/c%3A/localRepository/StudyBigData/day06/%EC%8A%A4%ED%83%80%EB%B2%85%EC%8A%A4_%EC%9D%B4%EB%94%94%EC%95%BC_%EB%A7%A4%EC%9E%A5%20%EB%B6%84%EC%84%9D.ipynb#X33sZmlsZQ%3D%3D?line=0'>1</a>\u001b[0m \u001b[39mprint\u001b[39m(df_cafe\u001b[39m.\u001b[39mshape)\n\u001b[0;32m      <a href='vscode-notebook-cell:/c%3A/localRepository/StudyBigData/day06/%EC%8A%A4%ED%83%80%EB%B2%85%EC%8A%A4_%EC%9D%B4%EB%94%94%EC%95%BC_%EB%A7%A4%EC%9E%A5%20%EB%B6%84%EC%84%9D.ipynb#X33sZmlsZQ%3D%3D?line=1'>2</a>\u001b[0m df_cafe \u001b[39m=\u001b[39m df_cafe[df_cafe[\u001b[39m\"\u001b[39m\u001b[39m상권업종중분류명\u001b[39m\u001b[39m\"\u001b[39m] \u001b[39m==\u001b[39m \u001b[39m\"\u001b[39m\u001b[39m커피점/카페\u001b[39m\u001b[39m\"\u001b[39m]\u001b[39m.\u001b[39mcopy()\n\u001b[0;32m      <a href='vscode-notebook-cell:/c%3A/localRepository/StudyBigData/day06/%EC%8A%A4%ED%83%80%EB%B2%85%EC%8A%A4_%EC%9D%B4%EB%94%94%EC%95%BC_%EB%A7%A4%EC%9E%A5%20%EB%B6%84%EC%84%9D.ipynb#X33sZmlsZQ%3D%3D?line=2'>3</a>\u001b[0m df_cafe\u001b[39m.\u001b[39mshape\n",
      "\u001b[1;31mNameError\u001b[0m: name 'df_cafe' is not defined"
     ]
    }
   ],
   "source": [
    "print(df_cafe.shape)\n",
    "df_cafe = df_cafe[df_cafe[\"상권업종중분류명\"] == \"커피점/카페\"].copy()\n",
    "df_cafe.shape"
   ]
  },
  {
   "cell_type": "code",
   "execution_count": 38,
   "metadata": {},
   "outputs": [
    {
     "ename": "NameError",
     "evalue": "name 'df_cafe' is not defined",
     "output_type": "error",
     "traceback": [
      "\u001b[1;31m---------------------------------------------------------------------------\u001b[0m",
      "\u001b[1;31mNameError\u001b[0m                                 Traceback (most recent call last)",
      "\u001b[1;32mc:\\localRepository\\StudyBigData\\day06\\스타벅스_이디야_매장 분석.ipynb 셀 24\u001b[0m in \u001b[0;36m<cell line: 3>\u001b[1;34m()\u001b[0m\n\u001b[0;32m      <a href='vscode-notebook-cell:/c%3A/localRepository/StudyBigData/day06/%EC%8A%A4%ED%83%80%EB%B2%85%EC%8A%A4_%EC%9D%B4%EB%94%94%EC%95%BC_%EB%A7%A4%EC%9E%A5%20%EB%B6%84%EC%84%9D.ipynb#X34sZmlsZQ%3D%3D?line=0'>1</a>\u001b[0m \u001b[39m# 브랜드명으로 각 카페의 갯수를 세어봅니다.\u001b[39;00m\n\u001b[1;32m----> <a href='vscode-notebook-cell:/c%3A/localRepository/StudyBigData/day06/%EC%8A%A4%ED%83%80%EB%B2%85%EC%8A%A4_%EC%9D%B4%EB%94%94%EC%95%BC_%EB%A7%A4%EC%9E%A5%20%EB%B6%84%EC%84%9D.ipynb#X34sZmlsZQ%3D%3D?line=2'>3</a>\u001b[0m df_cafe[\u001b[39m\"\u001b[39m\u001b[39m브랜드명\u001b[39m\u001b[39m\"\u001b[39m]\u001b[39m.\u001b[39mvalue_counts()\n",
      "\u001b[1;31mNameError\u001b[0m: name 'df_cafe' is not defined"
     ]
    }
   ],
   "source": [
    "# 브랜드명으로 각 카페의 갯수를 세어봅니다.\n",
    "\n",
    "df_cafe[\"브랜드명\"].value_counts()"
   ]
  },
  {
   "cell_type": "code",
   "execution_count": 41,
   "metadata": {},
   "outputs": [
    {
     "ename": "NameError",
     "evalue": "name 'df_cafe' is not defined",
     "output_type": "error",
     "traceback": [
      "\u001b[1;31m---------------------------------------------------------------------------\u001b[0m",
      "\u001b[1;31mNameError\u001b[0m                                 Traceback (most recent call last)",
      "\u001b[1;32mc:\\localRepository\\StudyBigData\\day06\\스타벅스_이디야_매장 분석.ipynb 셀 26\u001b[0m in \u001b[0;36m<cell line: 3>\u001b[1;34m()\u001b[0m\n\u001b[0;32m      <a href='vscode-notebook-cell:/c%3A/localRepository/StudyBigData/day06/%EC%8A%A4%ED%83%80%EB%B2%85%EC%8A%A4_%EC%9D%B4%EB%94%94%EC%95%BC_%EB%A7%A4%EC%9E%A5%20%EB%B6%84%EC%84%9D.ipynb#X35sZmlsZQ%3D%3D?line=0'>1</a>\u001b[0m \u001b[39m# 브랜드명을 막대그래프로 그려봅니다.\u001b[39;00m\n\u001b[1;32m----> <a href='vscode-notebook-cell:/c%3A/localRepository/StudyBigData/day06/%EC%8A%A4%ED%83%80%EB%B2%85%EC%8A%A4_%EC%9D%B4%EB%94%94%EC%95%BC_%EB%A7%A4%EC%9E%A5%20%EB%B6%84%EC%84%9D.ipynb#X35sZmlsZQ%3D%3D?line=2'>3</a>\u001b[0m sns\u001b[39m.\u001b[39mcountplot(data\u001b[39m=\u001b[39mdf_cafe, x\u001b[39m=\u001b[39m\u001b[39m\"\u001b[39m\u001b[39m브랜드명\u001b[39m\u001b[39m\"\u001b[39m)\n",
      "\u001b[1;31mNameError\u001b[0m: name 'df_cafe' is not defined"
     ]
    }
   ],
   "source": [
    "# 브랜드명을 막대그래프로 그려봅니다.\n",
    "\n",
    "sns.countplot(data=df_cafe, x=\"브랜드명\")"
   ]
  },
  {
   "cell_type": "code",
   "execution_count": 42,
   "metadata": {},
   "outputs": [
    {
     "ename": "NameError",
     "evalue": "name 'df_cafe' is not defined",
     "output_type": "error",
     "traceback": [
      "\u001b[1;31m---------------------------------------------------------------------------\u001b[0m",
      "\u001b[1;31mNameError\u001b[0m                                 Traceback (most recent call last)",
      "\u001b[1;32mc:\\localRepository\\StudyBigData\\day06\\스타벅스_이디야_매장 분석.ipynb 셀 27\u001b[0m in \u001b[0;36m<cell line: 2>\u001b[1;34m()\u001b[0m\n\u001b[0;32m      <a href='vscode-notebook-cell:/c%3A/localRepository/StudyBigData/day06/%EC%8A%A4%ED%83%80%EB%B2%85%EC%8A%A4_%EC%9D%B4%EB%94%94%EC%95%BC_%EB%A7%A4%EC%9E%A5%20%EB%B6%84%EC%84%9D.ipynb#X40sZmlsZQ%3D%3D?line=0'>1</a>\u001b[0m plt\u001b[39m.\u001b[39mfigure(figsize\u001b[39m=\u001b[39m(\u001b[39m15\u001b[39m, \u001b[39m4\u001b[39m))\n\u001b[1;32m----> <a href='vscode-notebook-cell:/c%3A/localRepository/StudyBigData/day06/%EC%8A%A4%ED%83%80%EB%B2%85%EC%8A%A4_%EC%9D%B4%EB%94%94%EC%95%BC_%EB%A7%A4%EC%9E%A5%20%EB%B6%84%EC%84%9D.ipynb#X40sZmlsZQ%3D%3D?line=1'>2</a>\u001b[0m sns\u001b[39m.\u001b[39mcountplot(data\u001b[39m=\u001b[39mdf_cafe, x\u001b[39m=\u001b[39m\u001b[39m\"\u001b[39m\u001b[39m시군구명\u001b[39m\u001b[39m\"\u001b[39m, hue\u001b[39m=\u001b[39m\u001b[39m\"\u001b[39m\u001b[39m브랜드명\u001b[39m\u001b[39m\"\u001b[39m)\n",
      "\u001b[1;31mNameError\u001b[0m: name 'df_cafe' is not defined"
     ]
    },
    {
     "data": {
      "text/plain": [
       "<Figure size 1080x288 with 0 Axes>"
      ]
     },
     "metadata": {},
     "output_type": "display_data"
    }
   ],
   "source": [
    "plt.figure(figsize=(20, 5))\n",
    "sns.countplot(data=df_cafe, x=\"시군구명\", hue=\"브랜드명\")"
   ]
  },
  {
   "cell_type": "code",
   "execution_count": 43,
   "metadata": {},
   "outputs": [
    {
     "ename": "NameError",
     "evalue": "name 'df_cafe' is not defined",
     "output_type": "error",
     "traceback": [
      "\u001b[1;31m---------------------------------------------------------------------------\u001b[0m",
      "\u001b[1;31mNameError\u001b[0m                                 Traceback (most recent call last)",
      "\u001b[1;32mc:\\localRepository\\StudyBigData\\day06\\스타벅스_이디야_매장 분석.ipynb 셀 28\u001b[0m in \u001b[0;36m<cell line: 3>\u001b[1;34m()\u001b[0m\n\u001b[0;32m      <a href='vscode-notebook-cell:/c%3A/localRepository/StudyBigData/day06/%EC%8A%A4%ED%83%80%EB%B2%85%EC%8A%A4_%EC%9D%B4%EB%94%94%EC%95%BC_%EB%A7%A4%EC%9E%A5%20%EB%B6%84%EC%84%9D.ipynb#X41sZmlsZQ%3D%3D?line=0'>1</a>\u001b[0m \u001b[39m# pandas로 scatterplot을 그려봅니다.\u001b[39;00m\n\u001b[1;32m----> <a href='vscode-notebook-cell:/c%3A/localRepository/StudyBigData/day06/%EC%8A%A4%ED%83%80%EB%B2%85%EC%8A%A4_%EC%9D%B4%EB%94%94%EC%95%BC_%EB%A7%A4%EC%9E%A5%20%EB%B6%84%EC%84%9D.ipynb#X41sZmlsZQ%3D%3D?line=2'>3</a>\u001b[0m df_cafe[[\u001b[39m\"\u001b[39m\u001b[39m위도\u001b[39m\u001b[39m\"\u001b[39m, \u001b[39m\"\u001b[39m\u001b[39m경도\u001b[39m\u001b[39m\"\u001b[39m]]\u001b[39m.\u001b[39mplot\u001b[39m.\u001b[39mscatter(x\u001b[39m=\u001b[39m\u001b[39m\"\u001b[39m\u001b[39m경도\u001b[39m\u001b[39m\"\u001b[39m, y\u001b[39m=\u001b[39m\u001b[39m\"\u001b[39m\u001b[39m위도\u001b[39m\u001b[39m\"\u001b[39m)\n",
      "\u001b[1;31mNameError\u001b[0m: name 'df_cafe' is not defined"
     ]
    }
   ],
   "source": [
    "# pandas로 scatterplot을 그려봅니다.\n",
    " ## 서울 지도랑 거의 동일함 \n",
    "\n",
    "df_cafe[[\"위도\", \"경도\"]].plot.scatter(x=\"경도\", y=\"위도\")"
   ]
  },
  {
   "cell_type": "code",
   "execution_count": 44,
   "metadata": {},
   "outputs": [
    {
     "ename": "NameError",
     "evalue": "name 'df_cafe' is not defined",
     "output_type": "error",
     "traceback": [
      "\u001b[1;31m---------------------------------------------------------------------------\u001b[0m",
      "\u001b[1;31mNameError\u001b[0m                                 Traceback (most recent call last)",
      "\u001b[1;32mc:\\localRepository\\StudyBigData\\day06\\스타벅스_이디야_매장 분석.ipynb 셀 29\u001b[0m in \u001b[0;36m<cell line: 2>\u001b[1;34m()\u001b[0m\n\u001b[0;32m      <a href='vscode-notebook-cell:/c%3A/localRepository/StudyBigData/day06/%EC%8A%A4%ED%83%80%EB%B2%85%EC%8A%A4_%EC%9D%B4%EB%94%94%EC%95%BC_%EB%A7%A4%EC%9E%A5%20%EB%B6%84%EC%84%9D.ipynb#X42sZmlsZQ%3D%3D?line=0'>1</a>\u001b[0m \u001b[39m# seaborn의 scatterplot 으로 hue에 브랜드명을 지정해서 시각화 합니다.\u001b[39;00m\n\u001b[1;32m----> <a href='vscode-notebook-cell:/c%3A/localRepository/StudyBigData/day06/%EC%8A%A4%ED%83%80%EB%B2%85%EC%8A%A4_%EC%9D%B4%EB%94%94%EC%95%BC_%EB%A7%A4%EC%9E%A5%20%EB%B6%84%EC%84%9D.ipynb#X42sZmlsZQ%3D%3D?line=1'>2</a>\u001b[0m sns\u001b[39m.\u001b[39mscatterplot(data\u001b[39m=\u001b[39mdf_cafe, x\u001b[39m=\u001b[39m\u001b[39m\"\u001b[39m\u001b[39m경도\u001b[39m\u001b[39m\"\u001b[39m, y\u001b[39m=\u001b[39m\u001b[39m\"\u001b[39m\u001b[39m위도\u001b[39m\u001b[39m\"\u001b[39m, hue\u001b[39m=\u001b[39m\u001b[39m\"\u001b[39m\u001b[39m브랜드명\u001b[39m\u001b[39m\"\u001b[39m)\n",
      "\u001b[1;31mNameError\u001b[0m: name 'df_cafe' is not defined"
     ]
    }
   ],
   "source": [
    "# seaborn의 scatterplot 으로 hue에 브랜드명을 지정해서 시각화 합니다.\n",
    "sns.scatterplot(data=df_cafe, x=\"경도\", y=\"위도\", hue=\"브랜드명\")"
   ]
  },
  {
   "cell_type": "code",
   "execution_count": 45,
   "metadata": {},
   "outputs": [
    {
     "ename": "NameError",
     "evalue": "name 'df_cafe' is not defined",
     "output_type": "error",
     "traceback": [
      "\u001b[1;31m---------------------------------------------------------------------------\u001b[0m",
      "\u001b[1;31mNameError\u001b[0m                                 Traceback (most recent call last)",
      "\u001b[1;32mc:\\localRepository\\StudyBigData\\day06\\스타벅스_이디야_매장 분석.ipynb 셀 30\u001b[0m in \u001b[0;36m<cell line: 2>\u001b[1;34m()\u001b[0m\n\u001b[0;32m      <a href='vscode-notebook-cell:/c%3A/localRepository/StudyBigData/day06/%EC%8A%A4%ED%83%80%EB%B2%85%EC%8A%A4_%EC%9D%B4%EB%94%94%EC%95%BC_%EB%A7%A4%EC%9E%A5%20%EB%B6%84%EC%84%9D.ipynb#X43sZmlsZQ%3D%3D?line=0'>1</a>\u001b[0m \u001b[39m# jointplot 그리기\u001b[39;00m\n\u001b[1;32m----> <a href='vscode-notebook-cell:/c%3A/localRepository/StudyBigData/day06/%EC%8A%A4%ED%83%80%EB%B2%85%EC%8A%A4_%EC%9D%B4%EB%94%94%EC%95%BC_%EB%A7%A4%EC%9E%A5%20%EB%B6%84%EC%84%9D.ipynb#X43sZmlsZQ%3D%3D?line=1'>2</a>\u001b[0m sns\u001b[39m.\u001b[39mjointplot(data\u001b[39m=\u001b[39mdf_cafe, x\u001b[39m=\u001b[39m\u001b[39m\"\u001b[39m\u001b[39m경도\u001b[39m\u001b[39m\"\u001b[39m, y\u001b[39m=\u001b[39m\u001b[39m\"\u001b[39m\u001b[39m위도\u001b[39m\u001b[39m\"\u001b[39m, kind\u001b[39m=\u001b[39m\u001b[39m\"\u001b[39m\u001b[39mkde\u001b[39m\u001b[39m\"\u001b[39m)\n",
      "\u001b[1;31mNameError\u001b[0m: name 'df_cafe' is not defined"
     ]
    }
   ],
   "source": [
    "# jointplot 그리기\n",
    "sns.jointplot(data=df_cafe, x=\"경도\", y=\"위도\", kind=\"kde\")"
   ]
  },
  {
   "cell_type": "code",
   "execution_count": 46,
   "metadata": {},
   "outputs": [
    {
     "ename": "NameError",
     "evalue": "name 'df_cafe' is not defined",
     "output_type": "error",
     "traceback": [
      "\u001b[1;31m---------------------------------------------------------------------------\u001b[0m",
      "\u001b[1;31mNameError\u001b[0m                                 Traceback (most recent call last)",
      "\u001b[1;32mc:\\localRepository\\StudyBigData\\day06\\스타벅스_이디야_매장 분석.ipynb 셀 31\u001b[0m in \u001b[0;36m<cell line: 3>\u001b[1;34m()\u001b[0m\n\u001b[0;32m      <a href='vscode-notebook-cell:/c%3A/localRepository/StudyBigData/day06/%EC%8A%A4%ED%83%80%EB%B2%85%EC%8A%A4_%EC%9D%B4%EB%94%94%EC%95%BC_%EB%A7%A4%EC%9E%A5%20%EB%B6%84%EC%84%9D.ipynb#X44sZmlsZQ%3D%3D?line=0'>1</a>\u001b[0m \u001b[39m# 구별로 그룹핑\u001b[39;00m\n\u001b[1;32m----> <a href='vscode-notebook-cell:/c%3A/localRepository/StudyBigData/day06/%EC%8A%A4%ED%83%80%EB%B2%85%EC%8A%A4_%EC%9D%B4%EB%94%94%EC%95%BC_%EB%A7%A4%EC%9E%A5%20%EB%B6%84%EC%84%9D.ipynb#X44sZmlsZQ%3D%3D?line=2'>3</a>\u001b[0m df_cafe_vs \u001b[39m=\u001b[39m df_cafe\u001b[39m.\u001b[39mgroupby([\u001b[39m\"\u001b[39m\u001b[39m시군구명\u001b[39m\u001b[39m\"\u001b[39m, \u001b[39m\"\u001b[39m\u001b[39m브랜드명\u001b[39m\u001b[39m\"\u001b[39m])[\u001b[39m\"\u001b[39m\u001b[39m상호명\u001b[39m\u001b[39m\"\u001b[39m]\u001b[39m.\u001b[39mcount()\n\u001b[0;32m      <a href='vscode-notebook-cell:/c%3A/localRepository/StudyBigData/day06/%EC%8A%A4%ED%83%80%EB%B2%85%EC%8A%A4_%EC%9D%B4%EB%94%94%EC%95%BC_%EB%A7%A4%EC%9E%A5%20%EB%B6%84%EC%84%9D.ipynb#X44sZmlsZQ%3D%3D?line=3'>4</a>\u001b[0m df_cafe_vs\u001b[39m.\u001b[39mhead()\n",
      "\u001b[1;31mNameError\u001b[0m: name 'df_cafe' is not defined"
     ]
    }
   ],
   "source": [
    "# 구별로 그룹핑\n",
    "\n",
    "df_cafe_vs = df_cafe.groupby([\"시군구명\", \"브랜드명\"])[\"상호명\"].count()\n",
    "df_cafe_vs.head()\n"
   ]
  },
  {
   "cell_type": "code",
   "execution_count": 47,
   "metadata": {},
   "outputs": [
    {
     "ename": "NameError",
     "evalue": "name 'df_cafe_vs' is not defined",
     "output_type": "error",
     "traceback": [
      "\u001b[1;31m---------------------------------------------------------------------------\u001b[0m",
      "\u001b[1;31mNameError\u001b[0m                                 Traceback (most recent call last)",
      "\u001b[1;32mc:\\localRepository\\StudyBigData\\day06\\스타벅스_이디야_매장 분석.ipynb 셀 32\u001b[0m in \u001b[0;36m<cell line: 2>\u001b[1;34m()\u001b[0m\n\u001b[0;32m      <a href='vscode-notebook-cell:/c%3A/localRepository/StudyBigData/day06/%EC%8A%A4%ED%83%80%EB%B2%85%EC%8A%A4_%EC%9D%B4%EB%94%94%EC%95%BC_%EB%A7%A4%EC%9E%A5%20%EB%B6%84%EC%84%9D.ipynb#X45sZmlsZQ%3D%3D?line=0'>1</a>\u001b[0m \u001b[39m# reset_index 로 인덱스를 컬럼으로 만듭니다.\u001b[39;00m\n\u001b[1;32m----> <a href='vscode-notebook-cell:/c%3A/localRepository/StudyBigData/day06/%EC%8A%A4%ED%83%80%EB%B2%85%EC%8A%A4_%EC%9D%B4%EB%94%94%EC%95%BC_%EB%A7%A4%EC%9E%A5%20%EB%B6%84%EC%84%9D.ipynb#X45sZmlsZQ%3D%3D?line=1'>2</a>\u001b[0m df_cafe_vs \u001b[39m=\u001b[39m df_cafe_vs\u001b[39m.\u001b[39mreset_index()\n\u001b[0;32m      <a href='vscode-notebook-cell:/c%3A/localRepository/StudyBigData/day06/%EC%8A%A4%ED%83%80%EB%B2%85%EC%8A%A4_%EC%9D%B4%EB%94%94%EC%95%BC_%EB%A7%A4%EC%9E%A5%20%EB%B6%84%EC%84%9D.ipynb#X45sZmlsZQ%3D%3D?line=2'>3</a>\u001b[0m df_cafe_vs\u001b[39m.\u001b[39mhead()\n",
      "\u001b[1;31mNameError\u001b[0m: name 'df_cafe_vs' is not defined"
     ]
    }
   ],
   "source": [
    "# reset_index 로 인덱스를 컬럼으로 만듭니다.\n",
    "df_cafe_vs = df_cafe_vs.reset_index()\n",
    "df_cafe_vs.head()"
   ]
  },
  {
   "cell_type": "code",
   "execution_count": null,
   "metadata": {},
   "outputs": [],
   "source": []
  }
 ],
 "metadata": {
  "kernelspec": {
   "display_name": "Python 3.10.5 64-bit",
   "language": "python",
   "name": "python3"
  },
  "language_info": {
   "codemirror_mode": {
    "name": "ipython",
    "version": 3
   },
   "file_extension": ".py",
   "mimetype": "text/x-python",
   "name": "python",
   "nbconvert_exporter": "python",
   "pygments_lexer": "ipython3",
   "version": "3.10.5"
  },
  "orig_nbformat": 4,
  "vscode": {
   "interpreter": {
    "hash": "beedbe2faf2f7048d727558d0bc3221e7eba2a0b921cac4d4771b2feb8f74b30"
   }
  }
 },
 "nbformat": 4,
 "nbformat_minor": 2
}
