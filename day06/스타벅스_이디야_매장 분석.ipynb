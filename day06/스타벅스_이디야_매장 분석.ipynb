{
 "cells": [
  {
   "cell_type": "markdown",
   "metadata": {},
   "source": [
    "## 소상공인시장진흥공단 상가업소정보로 스타벅스, 이디야 위치 분석하기\n",
    "\n",
    "* 이디야는 스타벅스 근처에 입점한다는 설이 있습니다. 과연 이디야와 스타벅스의 매장입지는 얼마나 차이가 날까요? 관련 기사를 읽고 구별로 이디야와 스타벅스의 매장을 기사와 유사하게 분석하고 시각화 해보면서 Python, Pandas, Numpy, Seaborn, Matplotlib, folium 을 통해 다양한 방법으로 표현해 봅니다..\n",
    "\n",
    "### 다루는 내용\n",
    "* 공공데이터를 활용해 텍스트 데이터 정제하고 원하는 정보 찾아내기\n",
    "* 문자열에서 원하는 텍스트 추출하기\n",
    "* 문자열을 활용한 다양한 분석 방법과 위치 정보 사용하기\n",
    "* folium을 통한 위경도 데이터 시각화 이해하기\n",
    "\n",
    "### 실습\n",
    "* 텍스트 데이터 정제하기 -  대소문자로 섞여있는 상호명을 소문자로 변경하고 상호명 추출하기\n",
    "* 텍스트 데이터에서 원하는 정보 추출하기 - 브랜드명 컬럼을 만들고 구별 매장 수 분석하기\n",
    "* folium을 통해 지도에 분석한 내용을 표현하기 - CircleMarker와 choropleth 그리기\n",
    "\n",
    "\n",
    "### 데\n"
   ]
  },
  {
   "cell_type": "markdown",
   "metadata": {},
   "source": []
  },
  {
   "cell_type": "code",
   "execution_count": 1,
   "metadata": {},
   "outputs": [],
   "source": [
    "# 데이터 분석을 위해 pandas를, 수치계산을 위해 numpy를, 시각화를 위해 seaborn을 불러옵니다.\n",
    "import pandas as pd\n",
    "import numpy as np\n",
    "import seaborn as sns\n",
    "import matplotlib.pyplot as plt\n",
    "from matplotlib import rcParams, style, font_manager, rc\n",
    "\n"
   ]
  },
  {
   "cell_type": "code",
   "execution_count": 2,
   "metadata": {},
   "outputs": [
    {
     "ename": "NameError",
     "evalue": "name 'font_path' is not defined",
     "output_type": "error",
     "traceback": [
      "\u001b[1;31m---------------------------------------------------------------------------\u001b[0m",
      "\u001b[1;31mNameError\u001b[0m                                 Traceback (most recent call last)",
      "\u001b[1;32mc:\\localRepository\\StudyBigData\\day06\\스타벅스_이디야_매장 분석.ipynb 셀 4\u001b[0m in \u001b[0;36m<cell line: 2>\u001b[1;34m()\u001b[0m\n\u001b[0;32m      <a href='vscode-notebook-cell:/c%3A/localRepository/StudyBigData/day06/%EC%8A%A4%ED%83%80%EB%B2%85%EC%8A%A4_%EC%9D%B4%EB%94%94%EC%95%BC_%EB%A7%A4%EC%9E%A5%20%EB%B6%84%EC%84%9D.ipynb#W4sZmlsZQ%3D%3D?line=0'>1</a>\u001b[0m nt_path \u001b[39m=\u001b[39m \u001b[39m'\u001b[39m\u001b[39mC:/Windows/Fonts/Malgun.ttf\u001b[39m\u001b[39m'\u001b[39m\n\u001b[1;32m----> <a href='vscode-notebook-cell:/c%3A/localRepository/StudyBigData/day06/%EC%8A%A4%ED%83%80%EB%B2%85%EC%8A%A4_%EC%9D%B4%EB%94%94%EC%95%BC_%EB%A7%A4%EC%9E%A5%20%EB%B6%84%EC%84%9D.ipynb#W4sZmlsZQ%3D%3D?line=1'>2</a>\u001b[0m font_name\u001b[39m=\u001b[39m font_manager\u001b[39m.\u001b[39mFontProperties(fname\u001b[39m=\u001b[39mfont_path)\u001b[39m.\u001b[39mget_name()\n\u001b[0;32m      <a href='vscode-notebook-cell:/c%3A/localRepository/StudyBigData/day06/%EC%8A%A4%ED%83%80%EB%B2%85%EC%8A%A4_%EC%9D%B4%EB%94%94%EC%95%BC_%EB%A7%A4%EC%9E%A5%20%EB%B6%84%EC%84%9D.ipynb#W4sZmlsZQ%3D%3D?line=2'>3</a>\u001b[0m rc(\u001b[39m'\u001b[39m\u001b[39mfont\u001b[39m\u001b[39m'\u001b[39m, family\u001b[39m=\u001b[39mfont_name)\n",
      "\u001b[1;31mNameError\u001b[0m: name 'font_path' is not defined"
     ]
    }
   ],
   "source": [
    "nt_path = 'C:/Windows/Fonts/Malgun.ttf'\n",
    "font_name= font_manager.FontProperties(fname=font_path).get_name()\n",
    "rc('font', family=font_name)"
   ]
  },
  {
   "cell_type": "code",
   "execution_count": null,
   "metadata": {},
   "outputs": [],
   "source": []
  }
 ],
 "metadata": {
  "kernelspec": {
   "display_name": "Python 3.10.5 64-bit",
   "language": "python",
   "name": "python3"
  },
  "language_info": {
   "codemirror_mode": {
    "name": "ipython",
    "version": 3
   },
   "file_extension": ".py",
   "mimetype": "text/x-python",
   "name": "python",
   "nbconvert_exporter": "python",
   "pygments_lexer": "ipython3",
   "version": "3.10.5"
  },
  "orig_nbformat": 4,
  "vscode": {
   "interpreter": {
    "hash": "beedbe2faf2f7048d727558d0bc3221e7eba2a0b921cac4d4771b2feb8f74b30"
   }
  }
 },
 "nbformat": 4,
 "nbformat_minor": 2
}
